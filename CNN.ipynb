{
  "nbformat": 4,
  "nbformat_minor": 0,
  "metadata": {
    "colab": {
      "provenance": [],
      "authorship_tag": "ABX9TyOgyi4m6rvjNo6PU+x3z31J",
      "include_colab_link": true
    },
    "kernelspec": {
      "name": "python3",
      "display_name": "Python 3"
    },
    "language_info": {
      "name": "python"
    }
  },
  "cells": [
    {
      "cell_type": "markdown",
      "metadata": {
        "id": "view-in-github",
        "colab_type": "text"
      },
      "source": [
        "<a href=\"https://colab.research.google.com/github/fadyr1/CNN/blob/main/CNN.ipynb\" target=\"_parent\"><img src=\"https://colab.research.google.com/assets/colab-badge.svg\" alt=\"Open In Colab\"/></a>"
      ]
    },
    {
      "cell_type": "code",
      "execution_count": null,
      "metadata": {
        "id": "do3bdYaeZ5Yg"
      },
      "outputs": [],
      "source": [
        "import torch\n",
        "import torch.nn as nn\n",
        "import torch.nn.functional as F\n",
        "from torch.utils.data import DataLoader\n",
        "from torchvision import datasets, transforms\n",
        "from torchvision.utils import make_grid\n",
        "import numpy as np\n",
        "import pandas as pd\n",
        "from sklearn.metrics import confusion_matrix\n",
        "import matplotlib.pyplot as plt\n",
        "%matplotlib inline\n",
        "\n"
      ]
    },
    {
      "cell_type": "code",
      "source": [
        "#Convert Mnist\n",
        "transform = transforms.ToTensor()\n",
        "#Train Data\n",
        "train_data=datasets.MNIST(root='/cnn_data',train=True,download=True,transform=transform)\n",
        "#Test Data\n",
        "test_data=datasets.MNIST(root='/cnn_data',train=False,download=True,transform=transform)"
      ],
      "metadata": {
        "colab": {
          "base_uri": "https://localhost:8080/"
        },
        "id": "YdHeb6QLa-Vj",
        "outputId": "396c6888-bed5-4d45-9714-7a94ba56023d"
      },
      "execution_count": null,
      "outputs": [
        {
          "output_type": "stream",
          "name": "stdout",
          "text": [
            "Downloading http://yann.lecun.com/exdb/mnist/train-images-idx3-ubyte.gz\n",
            "Failed to download (trying next):\n",
            "<urlopen error [Errno 111] Connection refused>\n",
            "\n",
            "Downloading https://ossci-datasets.s3.amazonaws.com/mnist/train-images-idx3-ubyte.gz\n",
            "Downloading https://ossci-datasets.s3.amazonaws.com/mnist/train-images-idx3-ubyte.gz to /cnn_data/MNIST/raw/train-images-idx3-ubyte.gz\n"
          ]
        },
        {
          "output_type": "stream",
          "name": "stderr",
          "text": [
            "100%|██████████| 9.91M/9.91M [00:00<00:00, 16.3MB/s]\n"
          ]
        },
        {
          "output_type": "stream",
          "name": "stdout",
          "text": [
            "Extracting /cnn_data/MNIST/raw/train-images-idx3-ubyte.gz to /cnn_data/MNIST/raw\n",
            "\n",
            "Downloading http://yann.lecun.com/exdb/mnist/train-labels-idx1-ubyte.gz\n",
            "Failed to download (trying next):\n",
            "<urlopen error [Errno 111] Connection refused>\n",
            "\n",
            "Downloading https://ossci-datasets.s3.amazonaws.com/mnist/train-labels-idx1-ubyte.gz\n",
            "Downloading https://ossci-datasets.s3.amazonaws.com/mnist/train-labels-idx1-ubyte.gz to /cnn_data/MNIST/raw/train-labels-idx1-ubyte.gz\n"
          ]
        },
        {
          "output_type": "stream",
          "name": "stderr",
          "text": [
            "100%|██████████| 28.9k/28.9k [00:00<00:00, 497kB/s]\n"
          ]
        },
        {
          "output_type": "stream",
          "name": "stdout",
          "text": [
            "Extracting /cnn_data/MNIST/raw/train-labels-idx1-ubyte.gz to /cnn_data/MNIST/raw\n",
            "\n",
            "Downloading http://yann.lecun.com/exdb/mnist/t10k-images-idx3-ubyte.gz\n",
            "Failed to download (trying next):\n",
            "<urlopen error [Errno 111] Connection refused>\n",
            "\n",
            "Downloading https://ossci-datasets.s3.amazonaws.com/mnist/t10k-images-idx3-ubyte.gz\n",
            "Downloading https://ossci-datasets.s3.amazonaws.com/mnist/t10k-images-idx3-ubyte.gz to /cnn_data/MNIST/raw/t10k-images-idx3-ubyte.gz\n"
          ]
        },
        {
          "output_type": "stream",
          "name": "stderr",
          "text": [
            "100%|██████████| 1.65M/1.65M [00:00<00:00, 4.47MB/s]\n"
          ]
        },
        {
          "output_type": "stream",
          "name": "stdout",
          "text": [
            "Extracting /cnn_data/MNIST/raw/t10k-images-idx3-ubyte.gz to /cnn_data/MNIST/raw\n",
            "\n",
            "Downloading http://yann.lecun.com/exdb/mnist/t10k-labels-idx1-ubyte.gz\n",
            "Failed to download (trying next):\n",
            "<urlopen error [Errno 111] Connection refused>\n",
            "\n",
            "Downloading https://ossci-datasets.s3.amazonaws.com/mnist/t10k-labels-idx1-ubyte.gz\n",
            "Downloading https://ossci-datasets.s3.amazonaws.com/mnist/t10k-labels-idx1-ubyte.gz to /cnn_data/MNIST/raw/t10k-labels-idx1-ubyte.gz\n"
          ]
        },
        {
          "output_type": "stream",
          "name": "stderr",
          "text": [
            "100%|██████████| 4.54k/4.54k [00:00<00:00, 12.7MB/s]"
          ]
        },
        {
          "output_type": "stream",
          "name": "stdout",
          "text": [
            "Extracting /cnn_data/MNIST/raw/t10k-labels-idx1-ubyte.gz to /cnn_data/MNIST/raw\n",
            "\n"
          ]
        },
        {
          "output_type": "stream",
          "name": "stderr",
          "text": [
            "\n"
          ]
        }
      ]
    },
    {
      "cell_type": "code",
      "source": [
        "test_data"
      ],
      "metadata": {
        "colab": {
          "base_uri": "https://localhost:8080/"
        },
        "id": "4XJQ_asWcFQC",
        "outputId": "1adb932c-5015-45b7-9bef-6189d7f55dfc"
      },
      "execution_count": null,
      "outputs": [
        {
          "output_type": "execute_result",
          "data": {
            "text/plain": [
              "Dataset MNIST\n",
              "    Number of datapoints: 10000\n",
              "    Root location: /cnn_data\n",
              "    Split: Test\n",
              "    StandardTransform\n",
              "Transform: ToTensor()"
            ]
          },
          "metadata": {},
          "execution_count": 3
        }
      ]
    },
    {
      "cell_type": "code",
      "source": [
        "train_loader=DataLoader(train_data,batch_size=10,shuffle=True)\n",
        "test_loader=DataLoader(test_data,batch_size=10,shuffle=False)\n"
      ],
      "metadata": {
        "id": "TGoC_ZfGcQER"
      },
      "execution_count": null,
      "outputs": []
    },
    {
      "cell_type": "code",
      "source": [
        "#Grab 1 MNIST Image\n",
        "for i,(X_train,y_train) in enumerate(train_loader):\n",
        "    break"
      ],
      "metadata": {
        "id": "jmoAazzEFDAR"
      },
      "execution_count": null,
      "outputs": []
    },
    {
      "cell_type": "code",
      "source": [
        "enumerate(train_loader)"
      ],
      "metadata": {
        "colab": {
          "base_uri": "https://localhost:8080/"
        },
        "id": "oCovAgmi83lk",
        "outputId": "82930967-2172-44cf-918f-d9062bf7bd46"
      },
      "execution_count": null,
      "outputs": [
        {
          "output_type": "execute_result",
          "data": {
            "text/plain": [
              "<enumerate at 0x7dd48e0741d0>"
            ]
          },
          "metadata": {},
          "execution_count": 10
        }
      ]
    },
    {
      "cell_type": "code",
      "source": [
        "x=X_train.view(10,1,28,28)\n",
        "x=F.relu(conv1(x))"
      ],
      "metadata": {
        "id": "1ui7AxtmGtwB",
        "colab": {
          "base_uri": "https://localhost:8080/",
          "height": 193
        },
        "outputId": "09ede626-bada-468a-f7b4-422b94f0c23b"
      },
      "execution_count": null,
      "outputs": [
        {
          "output_type": "error",
          "ename": "TypeError",
          "evalue": "view() received an invalid combination of arguments - got (), but expected one of:\n * (torch.dtype dtype)\n * (tuple of ints size)\n",
          "traceback": [
            "\u001b[0;31m---------------------------------------------------------------------------\u001b[0m",
            "\u001b[0;31mTypeError\u001b[0m                                 Traceback (most recent call last)",
            "\u001b[0;32m<ipython-input-9-d9f3a0ad3916>\u001b[0m in \u001b[0;36m<cell line: 0>\u001b[0;34m()\u001b[0m\n\u001b[0;32m----> 1\u001b[0;31m \u001b[0mx\u001b[0m\u001b[0;34m=\u001b[0m\u001b[0mX_train\u001b[0m\u001b[0;34m.\u001b[0m\u001b[0mview\u001b[0m\u001b[0;34m(\u001b[0m\u001b[0;34m)\u001b[0m\u001b[0;34m\u001b[0m\u001b[0;34m\u001b[0m\u001b[0m\n\u001b[0m\u001b[1;32m      2\u001b[0m \u001b[0mx\u001b[0m\u001b[0;34m=\u001b[0m\u001b[0mF\u001b[0m\u001b[0;34m.\u001b[0m\u001b[0mrelu\u001b[0m\u001b[0;34m(\u001b[0m\u001b[0mconv1\u001b[0m\u001b[0;34m(\u001b[0m\u001b[0mx\u001b[0m\u001b[0;34m)\u001b[0m\u001b[0;34m)\u001b[0m\u001b[0;34m\u001b[0m\u001b[0;34m\u001b[0m\u001b[0m\n",
            "\u001b[0;31mTypeError\u001b[0m: view() received an invalid combination of arguments - got (), but expected one of:\n * (torch.dtype dtype)\n * (tuple of ints size)\n"
          ]
        }
      ]
    },
    {
      "cell_type": "code",
      "source": [
        "train_loader"
      ],
      "metadata": {
        "colab": {
          "base_uri": "https://localhost:8080/"
        },
        "id": "rDOwcoUeIBHg",
        "outputId": "43701158-d213-4db7-b7bc-e27b83b5213d"
      },
      "execution_count": null,
      "outputs": [
        {
          "output_type": "execute_result",
          "data": {
            "text/plain": [
              "<torch.utils.data.dataloader.DataLoader at 0x7c78c1b84b50>"
            ]
          },
          "metadata": {},
          "execution_count": 10
        }
      ]
    },
    {
      "cell_type": "code",
      "source": [
        "train_data"
      ],
      "metadata": {
        "colab": {
          "base_uri": "https://localhost:8080/"
        },
        "id": "uGPMPlPjIz7h",
        "outputId": "d0e6b8eb-79c4-4fa6-d869-fc9177defc90"
      },
      "execution_count": null,
      "outputs": [
        {
          "output_type": "execute_result",
          "data": {
            "text/plain": [
              "Dataset MNIST\n",
              "    Number of datapoints: 60000\n",
              "    Root location: /cnn_data\n",
              "    Split: Train\n",
              "    StandardTransform\n",
              "Transform: ToTensor()"
            ]
          },
          "metadata": {},
          "execution_count": 11
        }
      ]
    },
    {
      "cell_type": "code",
      "source": [
        "x.shape"
      ],
      "metadata": {
        "colab": {
          "base_uri": "https://localhost:8080/"
        },
        "id": "2PJeAx0dJpPh",
        "outputId": "1e50fb3a-e7aa-446f-ff36-b7b7333defab"
      },
      "execution_count": null,
      "outputs": [
        {
          "output_type": "execute_result",
          "data": {
            "text/plain": [
              "torch.Size([10, 6, 26, 26])"
            ]
          },
          "metadata": {},
          "execution_count": 14
        }
      ]
    },
    {
      "cell_type": "code",
      "source": [],
      "metadata": {
        "id": "LGxX8p6iLDSo"
      },
      "execution_count": null,
      "outputs": []
    },
    {
      "cell_type": "code",
      "source": [
        "#pooling\n",
        "x=F.max_pool2d(x,2,2)"
      ],
      "metadata": {
        "id": "eEjNnGptJqBA"
      },
      "execution_count": null,
      "outputs": []
    },
    {
      "cell_type": "code",
      "source": [
        "x.shape"
      ],
      "metadata": {
        "colab": {
          "base_uri": "https://localhost:8080/"
        },
        "id": "Fd6oFsT7J9zh",
        "outputId": "43769374-809a-49ea-fd8b-7425c73d7f46"
      },
      "execution_count": null,
      "outputs": [
        {
          "output_type": "execute_result",
          "data": {
            "text/plain": [
              "torch.Size([10, 6, 13, 13])"
            ]
          },
          "metadata": {},
          "execution_count": 17
        }
      ]
    },
    {
      "cell_type": "code",
      "source": [
        "x=F.relu(conv2(x))"
      ],
      "metadata": {
        "id": "AeNR62PuJ_Jw"
      },
      "execution_count": null,
      "outputs": []
    },
    {
      "cell_type": "code",
      "source": [
        "x.shape"
      ],
      "metadata": {
        "colab": {
          "base_uri": "https://localhost:8080/"
        },
        "id": "HX6aNdfOKhLg",
        "outputId": "e14ed0bb-23d6-47a1-8706-688e78784d8f"
      },
      "execution_count": null,
      "outputs": [
        {
          "output_type": "execute_result",
          "data": {
            "text/plain": [
              "torch.Size([10, 16, 11, 11])"
            ]
          },
          "metadata": {},
          "execution_count": 19
        }
      ]
    },
    {
      "cell_type": "code",
      "source": [
        "x=F.max_pool2d(x,2,2)"
      ],
      "metadata": {
        "id": "XwInClCHKiTA"
      },
      "execution_count": null,
      "outputs": []
    },
    {
      "cell_type": "code",
      "source": [
        "x.shape"
      ],
      "metadata": {
        "colab": {
          "base_uri": "https://localhost:8080/"
        },
        "id": "m8IWXDOcKurg",
        "outputId": "edf8b96a-daff-4de4-e79e-34a403534703"
      },
      "execution_count": null,
      "outputs": [
        {
          "output_type": "execute_result",
          "data": {
            "text/plain": [
              "torch.Size([10, 16, 5, 5])"
            ]
          },
          "metadata": {},
          "execution_count": 21
        }
      ]
    },
    {
      "cell_type": "code",
      "source": [
        "class ConvolutionalNetwork(nn.Module):\n",
        "  def __init__(self):\n",
        "    super().__init__()\n",
        "    self.conv1=nn.Conv2d(1,6,3,1)\n",
        "    self.conv2=nn.Conv2d(6,16,3,1)\n",
        "    self.fc1=nn.Linear(5*5*16,120)\n",
        "    self.fc2=nn.Linear(120,84)\n",
        "    self.fc3=nn.Linear(84,10)\n",
        "  def forward(self,X):\n",
        "    X=F.relu(self.conv1(X))\n",
        "    X=F.max_pool2d(X,2,2)\n",
        "    X=F.relu(self.conv2(X))\n",
        "    X=F.max_pool2d(X,2,2)\n",
        "    #review data to flat out\n",
        "    X=X.view(-1,5*5*16)\n",
        "    X=F.relu(self.fc1(X))\n",
        "    X=F.relu(self.fc2(X))\n",
        "    X=self.fc3(X)\n",
        "    return F.log_softmax(X, dim=1)"
      ],
      "metadata": {
        "id": "RE38I9RyKwSw"
      },
      "execution_count": null,
      "outputs": []
    },
    {
      "cell_type": "code",
      "source": [
        "torch.manual_seed(41)\n",
        "model=ConvolutionalNetwork()"
      ],
      "metadata": {
        "id": "le6WbiMMR7E9"
      },
      "execution_count": null,
      "outputs": []
    },
    {
      "cell_type": "code",
      "source": [
        "criterion=nn.CrossEntropyLoss()\n",
        "optimizer=torch.optim.Adam(model.parameters(),lr=0.001)"
      ],
      "metadata": {
        "id": "opV9NWMqShZe"
      },
      "execution_count": null,
      "outputs": []
    },
    {
      "cell_type": "code",
      "source": [
        "import time\n",
        "\n",
        "#variables to track\n",
        "epochs= 5\n",
        "train_losses=[]\n",
        "test_losses=[]\n",
        "train_correct=[]\n",
        "test_correct=[]\n",
        "#Epochs\n",
        "for i in range(epochs):\n",
        "  trn_corr=0\n",
        "  tst_corr=0\n",
        "\n",
        "#train\n",
        "  for b,(X_train,y_train) in enumerate(train_loader):\n",
        "    b+=1\n",
        "    y_pred=model(X_train)\n",
        "    loss=criterion(y_pred,y_train)\n",
        "    predicted=torch.max(y_pred.data,1)[1]\n",
        "    batch_corr=(predicted==y_train).sum()\n",
        "    trn_corr+=batch_corr\n",
        "\n",
        "    optimizer.zero_grad()\n",
        "    loss.backward()\n",
        "    optimizer.step()\n",
        "    if b%100==0:\n",
        "      print(f'epoch:{i} loss:{loss.item()}')\n",
        "  train_losses.append(loss)\n",
        "  train_correct.append(trn_corr)\n",
        "#test\n",
        "  with torch.no_grad():\n",
        "    for b,(X_test,y_test) in enumerate(test_loader):\n",
        "      y_val=model(X_test)\n",
        "      predicted=torch.max(y_val.data,1)[1]\n",
        "      tst_corr+=(predicted==y_test).sum()\n",
        "\n",
        "\n",
        "  loss=criterion(y_val,y_test)\n",
        "  test_losses.append(loss)\n",
        "  test_correct.append(tst_corr)\n",
        "start_time=time.time()\n",
        "current_time=time.time()\n",
        "total=current_time - start_time\n",
        "print(f'Training: {total/60}')\n"
      ],
      "metadata": {
        "colab": {
          "base_uri": "https://localhost:8080/"
        },
        "id": "uVRi8hvlrLAJ",
        "outputId": "b5874de0-d322-4da2-94f1-301d8486e446"
      },
      "execution_count": null,
      "outputs": [
        {
          "output_type": "stream",
          "name": "stdout",
          "text": [
            "epoch:0 loss:0.9812231063842773\n",
            "epoch:0 loss:0.43812650442123413\n",
            "epoch:0 loss:0.28931525349617004\n",
            "epoch:0 loss:0.08598048985004425\n",
            "epoch:0 loss:0.33633095026016235\n",
            "epoch:0 loss:0.1623610556125641\n",
            "epoch:0 loss:0.5226176977157593\n",
            "epoch:0 loss:0.6974474191665649\n",
            "epoch:0 loss:0.20160897076129913\n",
            "epoch:0 loss:0.5349848866462708\n",
            "epoch:0 loss:0.8624889254570007\n",
            "epoch:0 loss:0.1502392590045929\n",
            "epoch:0 loss:0.025196203961968422\n",
            "epoch:0 loss:0.3291054666042328\n",
            "epoch:0 loss:0.055179618299007416\n",
            "epoch:0 loss:0.05321278050541878\n",
            "epoch:0 loss:0.07852675765752792\n",
            "epoch:0 loss:0.4744560718536377\n",
            "epoch:0 loss:0.03948891535401344\n",
            "epoch:0 loss:0.5566567182540894\n",
            "epoch:0 loss:0.026368603110313416\n",
            "epoch:0 loss:0.05482446029782295\n",
            "epoch:0 loss:0.04502648860216141\n",
            "epoch:0 loss:0.14238706231117249\n",
            "epoch:0 loss:0.09642040729522705\n",
            "epoch:0 loss:0.04012634977698326\n",
            "epoch:0 loss:0.018391495570540428\n",
            "epoch:0 loss:0.03186991065740585\n",
            "epoch:0 loss:0.10387355089187622\n",
            "epoch:0 loss:0.007758188061416149\n",
            "epoch:0 loss:0.010106547735631466\n",
            "epoch:0 loss:0.006876646541059017\n",
            "epoch:0 loss:0.007388265337795019\n",
            "epoch:0 loss:0.029875200241804123\n",
            "epoch:0 loss:0.004284966737031937\n",
            "epoch:0 loss:0.3836284875869751\n",
            "epoch:0 loss:0.009248415939509869\n",
            "epoch:0 loss:0.09157977253198624\n",
            "epoch:0 loss:0.037285976111888885\n",
            "epoch:0 loss:0.01960762031376362\n",
            "epoch:0 loss:0.0040822019800543785\n",
            "epoch:0 loss:0.0038223876617848873\n",
            "epoch:0 loss:0.0019595404155552387\n",
            "epoch:0 loss:0.2853398621082306\n",
            "epoch:0 loss:0.0008029189775697887\n",
            "epoch:0 loss:0.100554920732975\n",
            "epoch:0 loss:0.10335651785135269\n",
            "epoch:0 loss:0.0021286322735249996\n",
            "epoch:0 loss:0.27050668001174927\n",
            "epoch:0 loss:0.04208856448531151\n",
            "epoch:0 loss:0.031467415392398834\n",
            "epoch:0 loss:0.03366946429014206\n",
            "epoch:0 loss:0.05421092361211777\n",
            "epoch:0 loss:0.0569545142352581\n",
            "epoch:0 loss:0.0018098928267136216\n",
            "epoch:0 loss:0.0046558743342757225\n",
            "epoch:0 loss:0.19046862423419952\n",
            "epoch:0 loss:0.4495726227760315\n",
            "epoch:0 loss:0.020157651975750923\n",
            "epoch:0 loss:0.00038789428072050214\n",
            "epoch:1 loss:0.16275431215763092\n",
            "epoch:1 loss:0.013084744103252888\n",
            "epoch:1 loss:0.00078145123552531\n",
            "epoch:1 loss:0.07116180658340454\n",
            "epoch:1 loss:0.00829227827489376\n",
            "epoch:1 loss:0.005851339548826218\n",
            "epoch:1 loss:0.00858617015182972\n",
            "epoch:1 loss:0.049824029207229614\n",
            "epoch:1 loss:0.002140082186087966\n",
            "epoch:1 loss:0.012146287597715855\n",
            "epoch:1 loss:0.033806078135967255\n",
            "epoch:1 loss:0.3855525553226471\n",
            "epoch:1 loss:0.12768013775348663\n",
            "epoch:1 loss:0.001670104218646884\n",
            "epoch:1 loss:0.017537157982587814\n",
            "epoch:1 loss:0.01697724498808384\n",
            "epoch:1 loss:0.003991781268268824\n",
            "epoch:1 loss:0.004819948226213455\n",
            "epoch:1 loss:0.004343960899859667\n",
            "epoch:1 loss:0.0019016513833776116\n",
            "epoch:1 loss:0.002873033983632922\n",
            "epoch:1 loss:0.008562169037759304\n",
            "epoch:1 loss:0.0011961974669247866\n",
            "epoch:1 loss:0.003216963727027178\n",
            "epoch:1 loss:0.0057013072073459625\n",
            "epoch:1 loss:0.0086183687672019\n",
            "epoch:1 loss:0.05109550431370735\n",
            "epoch:1 loss:0.011795401573181152\n",
            "epoch:1 loss:0.00198625260964036\n",
            "epoch:1 loss:0.0332382395863533\n",
            "epoch:1 loss:0.010257115587592125\n",
            "epoch:1 loss:0.025756221264600754\n",
            "epoch:1 loss:0.00703115900978446\n",
            "epoch:1 loss:0.00014211455709300935\n",
            "epoch:1 loss:0.0017011186573654413\n",
            "epoch:1 loss:0.5372857451438904\n",
            "epoch:1 loss:0.00380358356051147\n",
            "epoch:1 loss:0.016691969707608223\n",
            "epoch:1 loss:0.010013089515268803\n",
            "epoch:1 loss:0.05203569680452347\n",
            "epoch:1 loss:0.033697742968797684\n",
            "epoch:1 loss:0.04561494290828705\n",
            "epoch:1 loss:0.0024184961803257465\n",
            "epoch:1 loss:0.01462831161916256\n",
            "epoch:1 loss:0.11577753722667694\n",
            "epoch:1 loss:0.001072644954547286\n",
            "epoch:1 loss:7.250734779518098e-05\n",
            "epoch:1 loss:0.0007510822033509612\n",
            "epoch:1 loss:0.004627855494618416\n",
            "epoch:1 loss:0.008827468380331993\n",
            "epoch:1 loss:0.0015575947472825646\n",
            "epoch:1 loss:0.030782008543610573\n",
            "epoch:1 loss:0.0052227117121219635\n",
            "epoch:1 loss:0.0001173773780465126\n",
            "epoch:1 loss:0.0017221421003341675\n",
            "epoch:1 loss:0.02392694540321827\n",
            "epoch:1 loss:0.09406425058841705\n",
            "epoch:1 loss:0.2580351233482361\n",
            "epoch:1 loss:0.005629508290439844\n",
            "epoch:1 loss:0.14201366901397705\n",
            "epoch:2 loss:0.004658979829400778\n",
            "epoch:2 loss:0.0014678726438432932\n",
            "epoch:2 loss:0.0018529373919591308\n",
            "epoch:2 loss:0.0011747885728254914\n",
            "epoch:2 loss:0.008383275009691715\n",
            "epoch:2 loss:0.023733172565698624\n",
            "epoch:2 loss:0.07152462750673294\n",
            "epoch:2 loss:0.01065434142947197\n",
            "epoch:2 loss:0.07162456214427948\n",
            "epoch:2 loss:0.0003675628686323762\n",
            "epoch:2 loss:0.004820610396564007\n",
            "epoch:2 loss:0.003455493599176407\n",
            "epoch:2 loss:0.003996501676738262\n",
            "epoch:2 loss:0.10128126293420792\n",
            "epoch:2 loss:0.03829234838485718\n",
            "epoch:2 loss:0.0001324451732216403\n",
            "epoch:2 loss:0.0069061219692230225\n",
            "epoch:2 loss:0.0008372392621822655\n",
            "epoch:2 loss:0.0012369012692943215\n",
            "epoch:2 loss:0.0032195281237363815\n",
            "epoch:2 loss:0.00033566690399311483\n",
            "epoch:2 loss:0.09020505100488663\n",
            "epoch:2 loss:0.003710924880579114\n",
            "epoch:2 loss:0.010705141350626945\n",
            "epoch:2 loss:0.002597618382424116\n",
            "epoch:2 loss:0.002448849845677614\n",
            "epoch:2 loss:0.0013181170215830207\n",
            "epoch:2 loss:0.0006063530454412103\n",
            "epoch:2 loss:0.051529139280319214\n",
            "epoch:2 loss:0.008078320883214474\n",
            "epoch:2 loss:8.54559984873049e-05\n",
            "epoch:2 loss:0.008801540359854698\n",
            "epoch:2 loss:0.002315933583304286\n",
            "epoch:2 loss:0.04247397184371948\n",
            "epoch:2 loss:0.4826599061489105\n",
            "epoch:2 loss:0.0011862406972795725\n",
            "epoch:2 loss:0.0004671173228416592\n",
            "epoch:2 loss:0.18910911679267883\n",
            "epoch:2 loss:0.8818497657775879\n",
            "epoch:2 loss:0.004668953828513622\n",
            "epoch:2 loss:0.5605572462081909\n",
            "epoch:2 loss:0.038080841302871704\n",
            "epoch:2 loss:0.008781859651207924\n",
            "epoch:2 loss:5.0956441555172205e-05\n",
            "epoch:2 loss:0.0013848241651430726\n",
            "epoch:2 loss:0.11475088447332382\n",
            "epoch:2 loss:0.01844201795756817\n",
            "epoch:2 loss:0.0016068397089838982\n",
            "epoch:2 loss:0.10292898118495941\n",
            "epoch:2 loss:0.0052436357364058495\n",
            "epoch:2 loss:0.0037413183599710464\n",
            "epoch:2 loss:0.00044493755558505654\n",
            "epoch:2 loss:0.001266677980311215\n",
            "epoch:2 loss:0.138673797249794\n",
            "epoch:2 loss:0.0012035723775625229\n",
            "epoch:2 loss:0.23892326653003693\n",
            "epoch:2 loss:0.00020772431162185967\n",
            "epoch:2 loss:0.005735010374337435\n",
            "epoch:2 loss:0.0020468076691031456\n",
            "epoch:2 loss:0.2449204921722412\n",
            "epoch:3 loss:0.0034888293594121933\n",
            "epoch:3 loss:2.8500955522758886e-05\n",
            "epoch:3 loss:0.002246399177238345\n",
            "epoch:3 loss:0.0006427995976991951\n",
            "epoch:3 loss:8.810721919871867e-05\n",
            "epoch:3 loss:0.007151054684072733\n",
            "epoch:3 loss:0.0002747389080468565\n",
            "epoch:3 loss:0.0005832043243572116\n",
            "epoch:3 loss:0.002397860400378704\n",
            "epoch:3 loss:0.002420456614345312\n",
            "epoch:3 loss:0.010268156416714191\n",
            "epoch:3 loss:0.011097034439444542\n",
            "epoch:3 loss:0.0037272325716912746\n",
            "epoch:3 loss:1.8452683434588835e-05\n",
            "epoch:3 loss:0.001114755286835134\n",
            "epoch:3 loss:0.017252644523978233\n",
            "epoch:3 loss:0.0016567744314670563\n",
            "epoch:3 loss:0.0017998721450567245\n",
            "epoch:3 loss:0.02255944348871708\n",
            "epoch:3 loss:0.0001249374618055299\n",
            "epoch:3 loss:0.0002223577321274206\n",
            "epoch:3 loss:0.00031020952155813575\n",
            "epoch:3 loss:0.00010700251732487231\n",
            "epoch:3 loss:0.0001049584461725317\n",
            "epoch:3 loss:0.00010281025606673211\n",
            "epoch:3 loss:0.00023200619034469128\n",
            "epoch:3 loss:0.00020148204930592328\n",
            "epoch:3 loss:0.0005592297529801726\n",
            "epoch:3 loss:0.0077646211721003056\n",
            "epoch:3 loss:0.0031431831885129213\n",
            "epoch:3 loss:9.070417581824586e-05\n",
            "epoch:3 loss:0.0004449288244359195\n",
            "epoch:3 loss:0.00022374668333213776\n",
            "epoch:3 loss:0.041505638509988785\n",
            "epoch:3 loss:0.000307438982417807\n",
            "epoch:3 loss:0.003668801160529256\n",
            "epoch:3 loss:0.0007357405847869813\n",
            "epoch:3 loss:0.012234039604663849\n",
            "epoch:3 loss:0.005957003682851791\n",
            "epoch:3 loss:0.002649243688210845\n",
            "epoch:3 loss:0.0073783821426332\n",
            "epoch:3 loss:0.0037249946035444736\n",
            "epoch:3 loss:0.0012213571462780237\n",
            "epoch:3 loss:0.00029500023811124265\n",
            "epoch:3 loss:0.00185534474439919\n",
            "epoch:3 loss:0.3022889792919159\n",
            "epoch:3 loss:8.164254541043192e-05\n",
            "epoch:3 loss:0.00015864608576521277\n",
            "epoch:3 loss:0.0018862324068322778\n",
            "epoch:3 loss:0.0002891890180762857\n",
            "epoch:3 loss:0.008887315168976784\n",
            "epoch:3 loss:0.008174343034625053\n",
            "epoch:3 loss:4.6270128223113716e-05\n",
            "epoch:3 loss:0.0796482041478157\n",
            "epoch:3 loss:0.0020891004242002964\n",
            "epoch:3 loss:0.008022280409932137\n",
            "epoch:3 loss:0.009194494225084782\n",
            "epoch:3 loss:0.08063241839408875\n",
            "epoch:3 loss:0.004202110227197409\n",
            "epoch:3 loss:0.0808732658624649\n",
            "epoch:4 loss:0.009892234578728676\n",
            "epoch:4 loss:4.5581309677800164e-05\n",
            "epoch:4 loss:0.0018635403830558062\n",
            "epoch:4 loss:0.015170900151133537\n",
            "epoch:4 loss:0.002050828654319048\n",
            "epoch:4 loss:0.014099588617682457\n",
            "epoch:4 loss:0.0046275295317173\n",
            "epoch:4 loss:0.07656345516443253\n",
            "epoch:4 loss:0.36809536814689636\n",
            "epoch:4 loss:0.0005264768842607737\n",
            "epoch:4 loss:0.00045433902414515615\n",
            "epoch:4 loss:0.0382874570786953\n",
            "epoch:4 loss:0.014749611727893353\n",
            "epoch:4 loss:0.001583868870511651\n",
            "epoch:4 loss:3.340022885822691e-05\n",
            "epoch:4 loss:0.04046183079481125\n",
            "epoch:4 loss:0.00045725697418674827\n",
            "epoch:4 loss:0.16302265226840973\n",
            "epoch:4 loss:0.0009776813676580787\n",
            "epoch:4 loss:0.013100449927151203\n",
            "epoch:4 loss:0.05156739428639412\n",
            "epoch:4 loss:2.024066270678304e-05\n",
            "epoch:4 loss:0.0046860226429998875\n",
            "epoch:4 loss:0.02186887338757515\n",
            "epoch:4 loss:0.12920889258384705\n",
            "epoch:4 loss:0.05890991538763046\n",
            "epoch:4 loss:0.0009390294435434043\n",
            "epoch:4 loss:5.316678198141744e-06\n",
            "epoch:4 loss:4.137045834795572e-05\n",
            "epoch:4 loss:0.0024396399967372417\n",
            "epoch:4 loss:0.00039582830504514277\n",
            "epoch:4 loss:9.05974957277067e-06\n",
            "epoch:4 loss:0.7199223637580872\n",
            "epoch:4 loss:0.025933701545000076\n",
            "epoch:4 loss:0.005651670973747969\n",
            "epoch:4 loss:0.0013979513896629214\n",
            "epoch:4 loss:0.15011849999427795\n",
            "epoch:4 loss:0.005596406292170286\n",
            "epoch:4 loss:0.0005499210092239082\n",
            "epoch:4 loss:0.3114553689956665\n",
            "epoch:4 loss:0.0007158601656556129\n",
            "epoch:4 loss:0.000989563181065023\n",
            "epoch:4 loss:0.0019343763124197721\n",
            "epoch:4 loss:0.2834780514240265\n",
            "epoch:4 loss:0.06296271085739136\n",
            "epoch:4 loss:0.009675281122326851\n",
            "epoch:4 loss:0.16157478094100952\n",
            "epoch:4 loss:0.010317974723875523\n",
            "epoch:4 loss:0.0005364165408536792\n",
            "epoch:4 loss:0.019827699288725853\n",
            "epoch:4 loss:0.09587147831916809\n",
            "epoch:4 loss:0.0011757358442991972\n",
            "epoch:4 loss:0.0015994030982255936\n",
            "epoch:4 loss:0.16506639122962952\n",
            "epoch:4 loss:0.022060604766011238\n",
            "epoch:4 loss:0.0022615627385675907\n",
            "epoch:4 loss:0.0002589357609394938\n",
            "epoch:4 loss:0.006970219314098358\n",
            "epoch:4 loss:0.0002578049898147583\n",
            "epoch:4 loss:0.0027098222635686398\n",
            "Training: 8.304913838704427e-07\n"
          ]
        }
      ]
    },
    {
      "cell_type": "code",
      "source": [
        "\n",
        "test_correct"
      ],
      "metadata": {
        "colab": {
          "base_uri": "https://localhost:8080/"
        },
        "id": "-CjLpqhQ0mN3",
        "outputId": "b10c69de-04cb-449e-e31e-a41bf0181c2a"
      },
      "execution_count": null,
      "outputs": [
        {
          "output_type": "execute_result",
          "data": {
            "text/plain": [
              "[tensor(9771), tensor(9817), tensor(9802), tensor(9875), tensor(9857)]"
            ]
          },
          "metadata": {},
          "execution_count": 28
        }
      ]
    },
    {
      "cell_type": "code",
      "source": [
        "train_correct"
      ],
      "metadata": {
        "colab": {
          "base_uri": "https://localhost:8080/"
        },
        "id": "T3imAyFN2EU-",
        "outputId": "35718739-a29b-48a0-bbe8-8dbdc01377a8"
      },
      "execution_count": null,
      "outputs": [
        {
          "output_type": "execute_result",
          "data": {
            "text/plain": [
              "[tensor(56257), tensor(58786), tensor(59148), tensor(59313), tensor(59461)]"
            ]
          },
          "metadata": {},
          "execution_count": 29
        }
      ]
    },
    {
      "cell_type": "code",
      "source": [
        "predicted"
      ],
      "metadata": {
        "id": "Q901iu5_sXJx",
        "colab": {
          "base_uri": "https://localhost:8080/"
        },
        "outputId": "94faf172-ddd3-4b82-d247-ea666e87aada"
      },
      "execution_count": null,
      "outputs": [
        {
          "output_type": "execute_result",
          "data": {
            "text/plain": [
              "tensor([7, 8, 9, 0, 1, 2, 3, 4, 5, 6])"
            ]
          },
          "metadata": {},
          "execution_count": 9
        }
      ]
    },
    {
      "cell_type": "code",
      "source": [
        "train_losses=[tl.item() for tl in train_losses]\n",
        "plt.plot(train_losses, label=\"Training Losses\")\n",
        "plt.plot(test_losses, label=\"Validation Losses\")\n",
        "\n",
        "plt.legend()\n",
        "plt.show()"
      ],
      "metadata": {
        "colab": {
          "base_uri": "https://localhost:8080/",
          "height": 430
        },
        "id": "nyzkcrGdx17v",
        "outputId": "196d6241-aea9-40af-c7e7-2adbe42ed8cf"
      },
      "execution_count": null,
      "outputs": [
        {
          "output_type": "display_data",
          "data": {
            "text/plain": [
              "<Figure size 640x480 with 1 Axes>"
            ],
            "image/png": "[encoded data removed]"
          },
          "metadata": {}
        }
      ]
    },
    {
      "cell_type": "code",
      "source": [
        "#accuracy\n",
        "plt.plot([t/600 for t in train_correct], label=\"Training accuracy\")\n",
        "plt.plot([t/100 for t in test_correct], label=\"Testing accuracy\")\n",
        "plt.legend()"
      ],
      "metadata": {
        "colab": {
          "base_uri": "https://localhost:8080/",
          "height": 447
        },
        "id": "IDE42px8zGhv",
        "outputId": "cd4cb13f-e27f-46e6-ccdb-d5e1e292cfd2"
      },
      "execution_count": null,
      "outputs": [
        {
          "output_type": "execute_result",
          "data": {
            "text/plain": [
              "<matplotlib.legend.Legend at 0x7e09ef780610>"
            ]
          },
          "metadata": {},
          "execution_count": 31
        },
        {
          "output_type": "display_data",
          "data": {
            "text/plain": [
              "<Figure size 640x480 with 1 Axes>"
            ],
            "image/png": "[encoded data removed]"
          },
          "metadata": {}
        }
      ]
    },
    {
      "cell_type": "code",
      "source": [
        "test_load_everything=DataLoader(test_data, batch_size=10000, shuffle=False)\n",
        "with torch.no_grad():\n",
        "  correct=0\n",
        "  for X_test, y_test in test_load_everything:\n",
        "    y_val=model(X_test)\n",
        "    predicted=torch.max(y_val.data,1)[1]\n",
        "    correct+=(predicted==y_test).sum()\n",
        "    print(predicted)\n"
      ],
      "metadata": {
        "colab": {
          "base_uri": "https://localhost:8080/"
        },
        "id": "E15Is0f20WBv",
        "outputId": "56af29a6-5cec-4f2d-e466-a93e2f0a4ce4"
      },
      "execution_count": null,
      "outputs": [
        {
          "output_type": "stream",
          "name": "stdout",
          "text": [
            "tensor([7, 2, 1,  ..., 4, 5, 6])\n"
          ]
        },
        {
          "output_type": "execute_result",
          "data": {
            "text/plain": [
              "9857"
            ]
          },
          "metadata": {},
          "execution_count": 36
        }
      ]
    },
    {
      "cell_type": "code",
      "source": [
        "#Grab image\n",
        "img=test_data[500][0].reshape(28,28)"
      ],
      "metadata": {
        "id": "vyHCCnVB_cau"
      },
      "execution_count": null,
      "outputs": []
    },
    {
      "cell_type": "code",
      "source": [
        "plt.imshow(img)"
      ],
      "metadata": {
        "colab": {
          "base_uri": "https://localhost:8080/",
          "height": 447
        },
        "id": "b1biU9ywDxUv",
        "outputId": "eb6e8382-f820-4a74-a8a2-d2e6daddb879"
      },
      "execution_count": null,
      "outputs": [
        {
          "output_type": "execute_result",
          "data": {
            "text/plain": [
              "<matplotlib.image.AxesImage at 0x7e09e40939d0>"
            ]
          },
          "metadata": {},
          "execution_count": 53
        },
        {
          "output_type": "display_data",
          "data": {
            "text/plain": [
              "<Figure size 640x480 with 1 Axes>"
            ],
            "image/png": "[encoded data removed]"
          },
          "metadata": {}
        }
      ]
    },
    {
      "cell_type": "code",
      "source": [
        "model.eval()\n",
        "with torch.no_grad():\n",
        "  new_prediction=model(img.view(1,1,28,28))\n"
      ],
      "metadata": {
        "id": "l2ikwhMfEPed"
      },
      "execution_count": null,
      "outputs": []
    },
    {
      "cell_type": "code",
      "source": [
        "new_prediction.argmax()"
      ],
      "metadata": {
        "colab": {
          "base_uri": "https://localhost:8080/"
        },
        "id": "pw7DMUHHE5xt",
        "outputId": "950a0a09-dc73-42c7-ae38-ae3db8cb0d55"
      },
      "execution_count": null,
      "outputs": [
        {
          "output_type": "execute_result",
          "data": {
            "text/plain": [
              "tensor(3)"
            ]
          },
          "metadata": {},
          "execution_count": 55
        }
      ]
    },
    {
      "cell_type": "code",
      "source": [],
      "metadata": {
        "id": "INUjtic0FDMu"
      },
      "execution_count": null,
      "outputs": []
    }
  ]
}